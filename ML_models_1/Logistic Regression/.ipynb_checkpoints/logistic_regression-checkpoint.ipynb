{
 "cells": [
  {
   "cell_type": "code",
   "execution_count": 14,
   "metadata": {},
   "outputs": [],
   "source": [
    "import matplotlib\n",
    "matplotlib.use('Agg')\n",
    "from datascience import Table\n",
    "%matplotlib inline\n",
    "import matplotlib.pyplot as plt\n",
    "import numpy as np\n",
    "plt.style.use('fivethirtyeight')\n",
    "import pandas as pd\n",
    "from sklearn.linear_model import LogisticRegression\n",
    "from sklearn.metrics import classification_report, confusion_matrix"
   ]
  },
  {
   "cell_type": "code",
   "execution_count": 24,
   "metadata": {},
   "outputs": [],
   "source": [
    "data = Table.read_table(\"./HR_Analytics_Data.csv\")"
   ]
  },
  {
   "cell_type": "code",
   "execution_count": 26,
   "metadata": {},
   "outputs": [
    {
     "data": {
      "text/html": [
       "<table border=\"1\" class=\"dataframe\">\n",
       "    <thead>\n",
       "        <tr>\n",
       "            <th>Department</th> <th>count</th>\n",
       "        </tr>\n",
       "    </thead>\n",
       "    <tbody>\n",
       "        <tr>\n",
       "            <td>IT         </td> <td>1227 </td>\n",
       "        </tr>\n",
       "        <tr>\n",
       "            <td>RandD      </td> <td>787  </td>\n",
       "        </tr>\n",
       "        <tr>\n",
       "            <td>accounting </td> <td>767  </td>\n",
       "        </tr>\n",
       "        <tr>\n",
       "            <td>hr         </td> <td>739  </td>\n",
       "        </tr>\n",
       "        <tr>\n",
       "            <td>management </td> <td>630  </td>\n",
       "        </tr>\n",
       "        <tr>\n",
       "            <td>marketing  </td> <td>858  </td>\n",
       "        </tr>\n",
       "        <tr>\n",
       "            <td>product_mng</td> <td>902  </td>\n",
       "        </tr>\n",
       "        <tr>\n",
       "            <td>sales      </td> <td>4140 </td>\n",
       "        </tr>\n",
       "        <tr>\n",
       "            <td>support    </td> <td>2229 </td>\n",
       "        </tr>\n",
       "        <tr>\n",
       "            <td>technical  </td> <td>2720 </td>\n",
       "        </tr>\n",
       "    </tbody>\n",
       "</table>"
      ],
      "text/plain": [
       "Department  | count\n",
       "IT          | 1227\n",
       "RandD       | 787\n",
       "accounting  | 767\n",
       "hr          | 739\n",
       "management  | 630\n",
       "marketing   | 858\n",
       "product_mng | 902\n",
       "sales       | 4140\n",
       "support     | 2229\n",
       "technical   | 2720"
      ]
     },
     "execution_count": 26,
     "metadata": {},
     "output_type": "execute_result"
    }
   ],
   "source": [
    "data.group('Department')"
   ]
  },
  {
   "cell_type": "markdown",
   "metadata": {},
   "source": [
    "### Dropping the department as its difficlut to draw the relation by converting the categorical values into numeric"
   ]
  },
  {
   "cell_type": "code",
   "execution_count": 27,
   "metadata": {},
   "outputs": [
    {
     "data": {
      "text/html": [
       "<table border=\"1\" class=\"dataframe\">\n",
       "    <thead>\n",
       "        <tr>\n",
       "            <th>satisfaction_level</th> <th>last_evaluation</th> <th>number_project</th> <th>average_montly_hours</th> <th>time_spend_company</th> <th>Work_accident</th> <th>left</th> <th>promotion_last_5years</th> <th>salary</th>\n",
       "        </tr>\n",
       "    </thead>\n",
       "    <tbody>\n",
       "        <tr>\n",
       "            <td>0.38              </td> <td>0.53           </td> <td>2             </td> <td>157                 </td> <td>3                 </td> <td>0            </td> <td>1   </td> <td>0                    </td> <td>low   </td>\n",
       "        </tr>\n",
       "        <tr>\n",
       "            <td>0.8               </td> <td>0.86           </td> <td>5             </td> <td>262                 </td> <td>6                 </td> <td>0            </td> <td>1   </td> <td>0                    </td> <td>medium</td>\n",
       "        </tr>\n",
       "        <tr>\n",
       "            <td>0.11              </td> <td>0.88           </td> <td>7             </td> <td>272                 </td> <td>4                 </td> <td>0            </td> <td>1   </td> <td>0                    </td> <td>medium</td>\n",
       "        </tr>\n",
       "        <tr>\n",
       "            <td>0.72              </td> <td>0.87           </td> <td>5             </td> <td>223                 </td> <td>5                 </td> <td>0            </td> <td>1   </td> <td>0                    </td> <td>low   </td>\n",
       "        </tr>\n",
       "        <tr>\n",
       "            <td>0.37              </td> <td>0.52           </td> <td>2             </td> <td>159                 </td> <td>3                 </td> <td>0            </td> <td>1   </td> <td>0                    </td> <td>low   </td>\n",
       "        </tr>\n",
       "        <tr>\n",
       "            <td>0.41              </td> <td>0.5            </td> <td>2             </td> <td>153                 </td> <td>3                 </td> <td>0            </td> <td>1   </td> <td>0                    </td> <td>low   </td>\n",
       "        </tr>\n",
       "        <tr>\n",
       "            <td>0.1               </td> <td>0.77           </td> <td>6             </td> <td>247                 </td> <td>4                 </td> <td>0            </td> <td>1   </td> <td>0                    </td> <td>low   </td>\n",
       "        </tr>\n",
       "        <tr>\n",
       "            <td>0.92              </td> <td>0.85           </td> <td>5             </td> <td>259                 </td> <td>5                 </td> <td>0            </td> <td>1   </td> <td>0                    </td> <td>low   </td>\n",
       "        </tr>\n",
       "        <tr>\n",
       "            <td>0.89              </td> <td>1              </td> <td>5             </td> <td>224                 </td> <td>5                 </td> <td>0            </td> <td>1   </td> <td>0                    </td> <td>low   </td>\n",
       "        </tr>\n",
       "        <tr>\n",
       "            <td>0.42              </td> <td>0.53           </td> <td>2             </td> <td>142                 </td> <td>3                 </td> <td>0            </td> <td>1   </td> <td>0                    </td> <td>low   </td>\n",
       "        </tr>\n",
       "    </tbody>\n",
       "</table>\n",
       "<p>... (14989 rows omitted)</p>"
      ],
      "text/plain": [
       "satisfaction_level | last_evaluation | number_project | average_montly_hours | time_spend_company | Work_accident | left | promotion_last_5years | salary\n",
       "0.38               | 0.53            | 2              | 157                  | 3                  | 0             | 1    | 0                     | low\n",
       "0.8                | 0.86            | 5              | 262                  | 6                  | 0             | 1    | 0                     | medium\n",
       "0.11               | 0.88            | 7              | 272                  | 4                  | 0             | 1    | 0                     | medium\n",
       "0.72               | 0.87            | 5              | 223                  | 5                  | 0             | 1    | 0                     | low\n",
       "0.37               | 0.52            | 2              | 159                  | 3                  | 0             | 1    | 0                     | low\n",
       "0.41               | 0.5             | 2              | 153                  | 3                  | 0             | 1    | 0                     | low\n",
       "0.1                | 0.77            | 6              | 247                  | 4                  | 0             | 1    | 0                     | low\n",
       "0.92               | 0.85            | 5              | 259                  | 5                  | 0             | 1    | 0                     | low\n",
       "0.89               | 1               | 5              | 224                  | 5                  | 0             | 1    | 0                     | low\n",
       "0.42               | 0.53            | 2              | 142                  | 3                  | 0             | 1    | 0                     | low\n",
       "... (14989 rows omitted)"
      ]
     },
     "execution_count": 27,
     "metadata": {},
     "output_type": "execute_result"
    }
   ],
   "source": [
    "data1 = data.drop('Department')\n",
    "data1"
   ]
  },
  {
   "cell_type": "markdown",
   "metadata": {},
   "source": [
    "### Without categorical data analysing the table for relationships"
   ]
  },
  {
   "cell_type": "code",
   "execution_count": 34,
   "metadata": {},
   "outputs": [
    {
     "data": {
      "text/html": [
       "<table border=\"1\" class=\"dataframe\">\n",
       "    <thead>\n",
       "        <tr>\n",
       "            <th>left</th> <th>satisfaction_level mean</th> <th>last_evaluation mean</th> <th>number_project mean</th> <th>average_montly_hours mean</th> <th>time_spend_company mean</th> <th>Work_accident mean</th> <th>promotion_last_5years mean</th>\n",
       "        </tr>\n",
       "    </thead>\n",
       "    <tbody>\n",
       "        <tr>\n",
       "            <td>0   </td> <td>0.66681                </td> <td>0.715473            </td> <td>3.78666            </td> <td>199.06                   </td> <td>3.38003                </td> <td>0.175009          </td> <td>0.0262513                 </td>\n",
       "        </tr>\n",
       "        <tr>\n",
       "            <td>1   </td> <td>0.440098               </td> <td>0.718113            </td> <td>3.8555             </td> <td>207.419                  </td> <td>3.87651                </td> <td>0.0473257         </td> <td>0.00532064                </td>\n",
       "        </tr>\n",
       "    </tbody>\n",
       "</table>"
      ],
      "text/plain": [
       "left | satisfaction_level mean | last_evaluation mean | number_project mean | average_montly_hours mean | time_spend_company mean | Work_accident mean | promotion_last_5years mean\n",
       "0    | 0.66681                 | 0.715473             | 3.78666             | 199.06                    | 3.38003                 | 0.175009           | 0.0262513\n",
       "1    | 0.440098                | 0.718113             | 3.8555              | 207.419                   | 3.87651                 | 0.0473257          | 0.00532064"
      ]
     },
     "execution_count": 34,
     "metadata": {},
     "output_type": "execute_result"
    }
   ],
   "source": [
    "data2 = data1.drop('salary')\n",
    "data2.groups(['left'], np.mean)"
   ]
  },
  {
   "cell_type": "markdown",
   "metadata": {},
   "source": [
    "### Dropping last_evaluation and number_project for analysis as little relation is found with the employee retention"
   ]
  },
  {
   "cell_type": "code",
   "execution_count": 35,
   "metadata": {},
   "outputs": [],
   "source": [
    "data3 = data1.drop('last_evaluation', 'number_project')"
   ]
  },
  {
   "cell_type": "markdown",
   "metadata": {},
   "source": [
    "### Adding dummy varibles for different levels of salary and removing salary column"
   ]
  },
  {
   "cell_type": "code",
   "execution_count": null,
   "metadata": {},
   "outputs": [],
   "source": [
    "salary_dummies = pd.get_dummies(data3['salary'], prefix=\"salary\")\n",
    "sal_tab = Table.from_df(salary_dummies)\n",
    "sal_tab_with_salary = sal_tab.with_column('salary',data3['salary'] )\n",
    "data4 = data3.join('salary', sal_tab_with_salary)\n",
    "print(data4)"
   ]
  },
  {
   "cell_type": "code",
   "execution_count": 30,
   "metadata": {},
   "outputs": [
    {
     "data": {
      "text/plain": [
       "array([-0.55616581])"
      ]
     },
     "execution_count": 30,
     "metadata": {},
     "output_type": "execute_result"
    }
   ],
   "source": [
    "logitModel.intercept_"
   ]
  },
  {
   "cell_type": "code",
   "execution_count": 31,
   "metadata": {},
   "outputs": [
    {
     "data": {
      "text/plain": [
       "array([[0.00239235]])"
      ]
     },
     "execution_count": 31,
     "metadata": {},
     "output_type": "execute_result"
    }
   ],
   "source": [
    "logitModel.coef_"
   ]
  },
  {
   "cell_type": "code",
   "execution_count": 35,
   "metadata": {},
   "outputs": [
    {
     "data": {
      "text/plain": [
       "array([1, 1, 1, 1, 1, 1, 1])"
      ]
     },
     "execution_count": 35,
     "metadata": {},
     "output_type": "execute_result"
    }
   ],
   "source": [
    "gre_test = np.array([526,465,455,402,625,583,636]).reshape(-1, 1)\n",
    "logitModel.predict(x)"
   ]
  }
 ],
 "metadata": {
  "kernelspec": {
   "display_name": "Python 3",
   "language": "python",
   "name": "python3"
  },
  "language_info": {
   "codemirror_mode": {
    "name": "ipython",
    "version": 3
   },
   "file_extension": ".py",
   "mimetype": "text/x-python",
   "name": "python",
   "nbconvert_exporter": "python",
   "pygments_lexer": "ipython3",
   "version": "3.7.3"
  }
 },
 "nbformat": 4,
 "nbformat_minor": 2
}
